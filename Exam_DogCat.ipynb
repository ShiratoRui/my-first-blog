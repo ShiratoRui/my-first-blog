{
 "cells": [
  {
   "cell_type": "code",
   "execution_count": 49,
   "id": "bef8d8d8",
   "metadata": {},
   "outputs": [],
   "source": [
    "import numpy as np\n",
    "import pandas as pd\n",
    "from PIL import Image\n",
    "from sklearn.svm import SVC\n",
    "from sklearn import metrics\n",
    "import matplotlib.pyplot as plt"
   ]
  },
  {
   "cell_type": "code",
   "execution_count": 50,
   "id": "06600692",
   "metadata": {},
   "outputs": [],
   "source": [
    "# 訓練データCSV読み込み\n",
    "train_data = pd.read_csv(\"dc_photos/train/train_data.csv\")"
   ]
  },
  {
   "cell_type": "code",
   "execution_count": 51,
   "id": "fcc298d9",
   "metadata": {},
   "outputs": [],
   "source": [
    "# テストデータ用SV読み込み\n",
    "test_data = pd.read_csv(\"dc_photos/test//test_data.csv\")"
   ]
  },
  {
   "cell_type": "code",
   "execution_count": 52,
   "id": "e517d4b6",
   "metadata": {},
   "outputs": [],
   "source": [
    "# 写真を１つ読み込み\n",
    "sample_img1 = Image.open(\"dc_photos/train/dog-001.jpg\")"
   ]
  },
  {
   "cell_type": "code",
   "execution_count": 53,
   "id": "5a192fd7",
   "metadata": {},
   "outputs": [
    {
     "data": {
      "text/plain": [
       "(75, 75, 3)"
      ]
     },
     "execution_count": 53,
     "metadata": {},
     "output_type": "execute_result"
    }
   ],
   "source": [
    "# 写真をndarrayに変換しサイズ確認\n",
    "sample_img1_array = np.array(sample_img1)\n",
    "sample_img1_array.shape"
   ]
  },
  {
   "cell_type": "code",
   "execution_count": 54,
   "id": "460192cd",
   "metadata": {},
   "outputs": [],
   "source": [
    "# 写真の読み込み\n",
    "\n",
    "# ndarrayのデータ領域の確保\n",
    "train_len = len(train_data)\n",
    "# 左右、上下、180度回転させたものを用意するため、4倍の容量を確保\n",
    "X_train = np.empty((train_len * 4, 16875), dtype=np.uint8)                \n",
    "y_train = np.empty(train_len * 4, dtype=np.uint8)\n",
    "\n",
    "\n",
    "for i in range(len(train_data)):\n",
    "\n",
    "    # 画像をndarrayとして訓練データに追加\n",
    "    name = train_data.loc[i, \"File name\"]                 \n",
    "    train_img = Image.open(f\"dc_photos/train/{name}.jpg\") \n",
    "    train_img = np.array(train_img)                       \n",
    "    train_img_f = train_img.flatten()                     \n",
    "    X_train[i] = train_img_f                              \n",
    "    y_train[i] = train_data.loc[i, \"DC\"]                  \n",
    "\n",
    "    # 左右反転させ訓練データに追加\n",
    "    train_img_lr = np.fliplr(train_img)                                   \n",
    "    train_img_lr_f = train_img_lr.flatten()\n",
    "    X_train[i + train_len] = train_img_lr_f\n",
    "    y_train[i + train_len] = train_data.loc[i, \"DC\"]\n",
    "\n",
    "    # 上下反転させ訓練データに追加\n",
    "    train_img_ud = np.flipud(train_img)                  \n",
    "    train_img_ud_f = train_img_ud.flatten()\n",
    "    X_train[i + train_len * 2] = train_img_ud_f\n",
    "    y_train[i + train_len * 2] = train_data.loc[i, \"DC\"]\n",
    "\n",
    "    # 180度回転させた訓練データに追加\n",
    "    train_img_180 = np.rot90(train_img, 2)               \n",
    "    train_img_180_f = train_img_180.flatten()\n",
    "    X_train[i + train_len * 3] = train_img_180_f\n",
    "    y_train[i + train_len * 3] = train_data.loc[i, \"DC\"]"
   ]
  },
  {
   "cell_type": "code",
   "execution_count": 55,
   "id": "b11a50e6",
   "metadata": {},
   "outputs": [],
   "source": [
    "# テスト用写真の読み込み\n",
    "\n",
    "# ndarrayデータの領域の確保\n",
    "test_len = len(test_data)\n",
    "X_test = np.empty((test_len, 16875), dtype=np.uint8)\n",
    "y_test = np.empty(test_len, dtype=np.uint8)\n",
    "\n",
    "for i in range(test_len):\n",
    "\n",
    "    # ndarrayとしてテストデータに追加\n",
    "    name = test_data.loc[i, \"File name\"]\n",
    "    test_img = Image.open(f\"dc_photos/test/{name}.jpg\")\n",
    "    test_img = np.array(test_img)\n",
    "    test_img_f = test_img.flatten()\n",
    "    X_test[i] = test_img_f\n",
    "    y_test[i] = test_data.loc[i, \"DC\"]"
   ]
  },
  {
   "cell_type": "code",
   "execution_count": 56,
   "id": "cf75ba61",
   "metadata": {},
   "outputs": [
    {
     "data": {
      "text/plain": [
       "SVC(kernel='linear')"
      ]
     },
     "execution_count": 56,
     "metadata": {},
     "output_type": "execute_result"
    }
   ],
   "source": [
    "# 学習の実施\n",
    "classifier = SVC(kernel=\"linear\")\n",
    "classifier.fit(X_train, y_train)"
   ]
  },
  {
   "cell_type": "code",
   "execution_count": 57,
   "id": "e36df779",
   "metadata": {},
   "outputs": [
    {
     "data": {
      "text/plain": [
       "array([0, 0, 0, 0, 1, 1, 1, 0, 0, 1, 0, 0, 0, 0, 0, 0, 0, 0, 1, 1, 0, 0,\n",
       "       0, 0, 0, 0, 0, 0, 0, 0, 0, 0, 0, 0, 0, 0, 1, 1, 0, 0, 0, 0, 0, 0,\n",
       "       1, 0, 0, 1, 0, 0, 1, 1, 1, 1, 1, 0, 1, 1, 1, 1, 1, 1, 1, 0, 1, 1,\n",
       "       1, 1, 1, 1, 1, 1, 1, 1, 1, 1, 1, 1, 1, 0, 1, 1, 0, 1, 1, 1, 1, 1,\n",
       "       1, 1, 1, 1, 1, 1, 1, 1, 1, 1, 1, 1], dtype=uint8)"
      ]
     },
     "execution_count": 57,
     "metadata": {},
     "output_type": "execute_result"
    }
   ],
   "source": [
    "# 分類の実施\n",
    "y_pred = classifier.predict(X_test)\n",
    "y_pred"
   ]
  },
  {
   "cell_type": "code",
   "execution_count": 58,
   "id": "2b5bb5d6",
   "metadata": {},
   "outputs": [
    {
     "data": {
      "text/plain": [
       "array([0, 0, 0, 0, 0, 0, 0, 0, 0, 0, 0, 0, 0, 0, 0, 0, 0, 0, 0, 0, 0, 0,\n",
       "       0, 0, 0, 0, 0, 0, 0, 0, 0, 0, 0, 0, 0, 0, 0, 0, 0, 0, 0, 0, 0, 0,\n",
       "       0, 0, 0, 0, 0, 0, 1, 1, 1, 1, 1, 1, 1, 1, 1, 1, 1, 1, 1, 1, 1, 1,\n",
       "       1, 1, 1, 1, 1, 1, 1, 1, 1, 1, 1, 1, 1, 1, 1, 1, 1, 1, 1, 1, 1, 1,\n",
       "       1, 1, 1, 1, 1, 1, 1, 1, 1, 1, 1, 1], dtype=uint8)"
      ]
     },
     "execution_count": 58,
     "metadata": {},
     "output_type": "execute_result"
    }
   ],
   "source": [
    "# 正解表示\n",
    "y_test"
   ]
  },
  {
   "cell_type": "code",
   "execution_count": 59,
   "id": "b8150515",
   "metadata": {},
   "outputs": [
    {
     "name": "stdout",
     "output_type": "stream",
     "text": [
      "[[40 10]\n",
      " [ 4 46]]\n"
     ]
    }
   ],
   "source": [
    "# 混同行列の確認\n",
    "print(metrics.confusion_matrix(y_test, y_pred))"
   ]
  },
  {
   "cell_type": "code",
   "execution_count": 60,
   "id": "cffdb24b",
   "metadata": {},
   "outputs": [
    {
     "name": "stdout",
     "output_type": "stream",
     "text": [
      "              precision    recall  f1-score   support\n",
      "\n",
      "           0       0.91      0.80      0.85        50\n",
      "           1       0.82      0.92      0.87        50\n",
      "\n",
      "    accuracy                           0.86       100\n",
      "   macro avg       0.87      0.86      0.86       100\n",
      "weighted avg       0.87      0.86      0.86       100\n",
      "\n"
     ]
    }
   ],
   "source": [
    "#正答率の確認\n",
    "print(metrics.classification_report(y_test, y_pred))"
   ]
  },
  {
   "cell_type": "code",
   "execution_count": null,
   "id": "1e0e02ac",
   "metadata": {},
   "outputs": [],
   "source": []
  }
 ],
 "metadata": {
  "kernelspec": {
   "display_name": "Python 3 (ipykernel)",
   "language": "python",
   "name": "python3"
  },
  "language_info": {
   "codemirror_mode": {
    "name": "ipython",
    "version": 3
   },
   "file_extension": ".py",
   "mimetype": "text/x-python",
   "name": "python",
   "nbconvert_exporter": "python",
   "pygments_lexer": "ipython3",
   "version": "3.8.3"
  }
 },
 "nbformat": 4,
 "nbformat_minor": 5
}
