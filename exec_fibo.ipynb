{
 "cells": [
  {
   "cell_type": "code",
   "execution_count": null,
   "id": "dde9f24b",
   "metadata": {},
   "outputs": [],
   "source": [
    "import prognum as a"
   ]
  },
  {
   "cell_type": "code",
   "execution_count": 15,
   "id": "d0092276",
   "metadata": {},
   "outputs": [
    {
     "name": "stdin",
     "output_type": "stream",
     "text": [
      "何番目の数値を求めますか？： 6\n"
     ]
    }
   ],
   "source": [
    "num = int(input(\"何番目の数値を求めますか？：\"))"
   ]
  },
  {
   "cell_type": "code",
   "execution_count": 16,
   "id": "6dd527fe",
   "metadata": {},
   "outputs": [
    {
     "name": "stdout",
     "output_type": "stream",
     "text": [
      "8\n"
     ]
    }
   ],
   "source": [
    "print(a.fibonacci(num))"
   ]
  },
  {
   "cell_type": "code",
   "execution_count": null,
   "id": "3ec1aeb7",
   "metadata": {},
   "outputs": [],
   "source": []
  }
 ],
 "metadata": {
  "kernelspec": {
   "display_name": "Python 3 (ipykernel)",
   "language": "python",
   "name": "python3"
  },
  "language_info": {
   "codemirror_mode": {
    "name": "ipython",
    "version": 3
   },
   "file_extension": ".py",
   "mimetype": "text/x-python",
   "name": "python",
   "nbconvert_exporter": "python",
   "pygments_lexer": "ipython3",
   "version": "3.8.3"
  }
 },
 "nbformat": 4,
 "nbformat_minor": 5
}
