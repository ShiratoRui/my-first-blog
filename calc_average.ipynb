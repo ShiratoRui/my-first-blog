{
 "cells": [
  {
   "cell_type": "code",
   "execution_count": 49,
   "id": "4da72386",
   "metadata": {},
   "outputs": [],
   "source": [
    "#人数カウンタ\n",
    "i = 0\n",
    "\n",
    "#点数の合計値\n",
    "score_sum = 0"
   ]
  },
  {
   "cell_type": "code",
   "execution_count": 50,
   "id": "d658d690",
   "metadata": {},
   "outputs": [
    {
     "name": "stdin",
     "output_type": "stream",
     "text": [
      "点数を入力してください： 65\n",
      "点数を入力してください： 42\n",
      "点数を入力してください： 87\n",
      "点数を入力してください： 99\n",
      "点数を入力してください： 48\n",
      "点数を入力してください： 73\n",
      "点数を入力してください： 100\n",
      "点数を入力してください： 61\n",
      "点数を入力してください： 89\n",
      "点数を入力してください： 70\n",
      "点数を入力してください： -1\n"
     ]
    }
   ],
   "source": [
    "while True:\n",
    "    \n",
    "    #キーボードから点数入力\n",
    "    score = int(input(\"点数を入力してください：\"))\n",
    "    \n",
    "    if score == -1:\n",
    "        break\n",
    "\n",
    "    else:\n",
    "        #人数を加算\n",
    "        i += 1\n",
    "\n",
    "        #得点を加算\n",
    "        score_sum +=score\n",
    "        \n",
    "        continue       \n"
   ]
  },
  {
   "cell_type": "code",
   "execution_count": 51,
   "id": "19686292",
   "metadata": {},
   "outputs": [],
   "source": [
    "#平均点算出\n",
    "average = score_sum /  i"
   ]
  },
  {
   "cell_type": "code",
   "execution_count": 52,
   "id": "6fee5667",
   "metadata": {},
   "outputs": [
    {
     "name": "stdout",
     "output_type": "stream",
     "text": [
      "10 人のテストの平均点は 73.4 点です。\n"
     ]
    }
   ],
   "source": [
    "print(i,\"人のテストの平均点は\",average,\"点です。\")"
   ]
  },
  {
   "cell_type": "code",
   "execution_count": null,
   "id": "3014389e",
   "metadata": {},
   "outputs": [],
   "source": []
  }
 ],
 "metadata": {
  "kernelspec": {
   "display_name": "Python 3 (ipykernel)",
   "language": "python",
   "name": "python3"
  },
  "language_info": {
   "codemirror_mode": {
    "name": "ipython",
    "version": 3
   },
   "file_extension": ".py",
   "mimetype": "text/x-python",
   "name": "python",
   "nbconvert_exporter": "python",
   "pygments_lexer": "ipython3",
   "version": "3.8.3"
  }
 },
 "nbformat": 4,
 "nbformat_minor": 5
}
