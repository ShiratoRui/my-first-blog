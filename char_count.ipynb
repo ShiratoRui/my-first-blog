{
 "cells": [
  {
   "cell_type": "code",
   "execution_count": 11,
   "id": "fbd06ec7",
   "metadata": {},
   "outputs": [],
   "source": [
    "#英単語格納用リスト作成\n",
    "keylist = []"
   ]
  },
  {
   "cell_type": "code",
   "execution_count": 12,
   "id": "3413d71d",
   "metadata": {},
   "outputs": [],
   "source": [
    "#\n",
    "char_count = dict.fromkeys(list(\"abcdefghijklmnopqrstuvwxyz\"), 0)"
   ]
  },
  {
   "cell_type": "code",
   "execution_count": 13,
   "id": "2e4505f7",
   "metadata": {},
   "outputs": [
    {
     "name": "stdin",
     "output_type": "stream",
     "text": [
      "英単語を入力してください： bus\n",
      "英単語を入力してください： apple\n",
      "英単語を入力してください： dog\n",
      "英単語を入力してください： \n"
     ]
    }
   ],
   "source": [
    "# リストへ登録\n",
    "while True:\n",
    "    #キーボードから英単語の入力\n",
    "    a = input(\"英単語を入力してください：\")\n",
    "\n",
    "    #リターンキーで終了\n",
    "    if a == \"\":\n",
    "        break\n",
    "\n",
    "    #リストに追加\n",
    "    keylist.append(a) \n",
    "    \n",
    "    #辞書内の数字に加算\n",
    "    for code in char_count.keys():\n",
    "    \n",
    "        if code in a:\n",
    "            char_count[code] += a.count(code)   "
   ]
  },
  {
   "cell_type": "code",
   "execution_count": 14,
   "id": "f96da128",
   "metadata": {},
   "outputs": [],
   "source": [
    "#ABC順にソート\n",
    "keylist.sort()"
   ]
  },
  {
   "cell_type": "code",
   "execution_count": 15,
   "id": "de32b390",
   "metadata": {},
   "outputs": [
    {
     "name": "stdout",
     "output_type": "stream",
     "text": [
      "入力した英単語: ['apple', 'bus', 'dog']\n"
     ]
    }
   ],
   "source": [
    "#一覧表示\n",
    "print(\"入力した英単語:\",keylist)"
   ]
  },
  {
   "cell_type": "code",
   "execution_count": 16,
   "id": "3d561271",
   "metadata": {},
   "outputs": [
    {
     "name": "stdout",
     "output_type": "stream",
     "text": [
      "a が 1 個ありました\n",
      "b が 1 個ありました\n",
      "d が 1 個ありました\n",
      "e が 1 個ありました\n",
      "g が 1 個ありました\n",
      "l が 1 個ありました\n",
      "o が 1 個ありました\n",
      "p が 2 個ありました\n",
      "s が 1 個ありました\n",
      "u が 1 個ありました\n"
     ]
    }
   ],
   "source": [
    "for code in char_count.keys():\n",
    "    if char_count[code] != 0:\n",
    "            print(code,\"が\",char_count[code],\"個ありました\")"
   ]
  },
  {
   "cell_type": "code",
   "execution_count": null,
   "id": "2ac4cfcb",
   "metadata": {},
   "outputs": [],
   "source": []
  }
 ],
 "metadata": {
  "kernelspec": {
   "display_name": "Python 3 (ipykernel)",
   "language": "python",
   "name": "python3"
  },
  "language_info": {
   "codemirror_mode": {
    "name": "ipython",
    "version": 3
   },
   "file_extension": ".py",
   "mimetype": "text/x-python",
   "name": "python",
   "nbconvert_exporter": "python",
   "pygments_lexer": "ipython3",
   "version": "3.8.3"
  }
 },
 "nbformat": 4,
 "nbformat_minor": 5
}
