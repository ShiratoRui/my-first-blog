{
 "cells": [
  {
   "cell_type": "markdown",
   "metadata": {},
   "source": [
    "# 課題1: データ前処理の実習\n",
    "\n",
    "ここではデータの前処理について理解いただくための課題を用意しました。この課題ではkaggleのcompetitionで使用されたデータを用いてデータの前処理方法を確認します。\n",
    "\n",
    "各列の詳細は下記サイトをご参照ください。\n",
    "https://www.kaggle.com/c/house-prices-advanced-regression-techniques/data\n",
    "\n",
    "各セルに入っているコメントの下に、実行するコードを記入してください。わからない場合は、ここまでのレッスン内容や各種ライブラリの公式ドキュメントを参照しましょう。"
   ]
  },
  {
   "cell_type": "markdown",
   "metadata": {},
   "source": [
    "## 1. 必要なモジュールの読み込み"
   ]
  },
  {
   "cell_type": "code",
   "execution_count": null,
   "metadata": {},
   "outputs": [],
   "source": [
    "import matplotlib\n",
    "import matplotlib.pyplot as plt\n",
    "import numpy as np\n",
    "import pandas as pd\n",
    "\n",
    "# グラフをノートブックで表示するための設定\n",
    "%matplotlib inline"
   ]
  },
  {
   "cell_type": "markdown",
   "metadata": {},
   "source": [
    "## 2. データの読み込み\n",
    "\n",
    "CSVファイル\"kaggle_housing_price.csv\"を読み込み、内容を確認します。"
   ]
  },
  {
   "cell_type": "code",
   "execution_count": null,
   "metadata": {},
   "outputs": [],
   "source": [
    "# データを変数datasetに読み込む\n"
   ]
  },
  {
   "cell_type": "code",
   "execution_count": null,
   "metadata": {},
   "outputs": [],
   "source": [
    "# データの最初の5行を表示\n"
   ]
  },
  {
   "cell_type": "markdown",
   "metadata": {},
   "source": [
    "DataFrameの`shape` プロパティで全データの行数と列数を取得できます。\n",
    "\n",
    "参照：http://pandas.pydata.org/pandas-docs/version/0.23/generated/pandas.DataFrame.shape.html"
   ]
  },
  {
   "cell_type": "code",
   "execution_count": null,
   "metadata": {},
   "outputs": [],
   "source": [
    "# データの行数、列数を表示\n"
   ]
  },
  {
   "cell_type": "markdown",
   "metadata": {},
   "source": [
    "## 3. 要約統計量を出力する\n",
    "\n",
    "データ数、平均や中央値、標準偏差などの統計量を確認し、データへの理解を深めます。\n",
    "\n",
    "なお、DataFrameの `describe()` を使うと、様々な統計量の情報を要約として表示してくれます。\n",
    "\n",
    "参考：http://pandas.pydata.org/pandas-docs/version/0.23/generated/pandas.DataFrame.describe.html"
   ]
  },
  {
   "cell_type": "code",
   "execution_count": null,
   "metadata": {},
   "outputs": [],
   "source": [
    "# 要約統計量を表示\n"
   ]
  },
  {
   "cell_type": "markdown",
   "metadata": {},
   "source": [
    "## 4. 基本的なデータの操作"
   ]
  },
  {
   "cell_type": "markdown",
   "metadata": {},
   "source": [
    "データの抽出・列の分割について学びます。"
   ]
  },
  {
   "cell_type": "markdown",
   "metadata": {},
   "source": [
    "### インデックスを用いた行の指定"
   ]
  },
  {
   "cell_type": "code",
   "execution_count": null,
   "metadata": {},
   "outputs": [],
   "source": [
    "# インデックス番号0から10行分抽出\n"
   ]
  },
  {
   "cell_type": "code",
   "execution_count": null,
   "metadata": {},
   "outputs": [],
   "source": [
    "# 「SalePrice」と「LotArea」の列を抽出し、最初の10行だけ表示\n"
   ]
  },
  {
   "cell_type": "markdown",
   "metadata": {},
   "source": [
    "### カラム間の演算\n",
    "\n",
    "PandasのDataFrameでは、列同士の四則演算、ならびに新しい列を追加することができます。\n",
    "\n",
    "たとえば、`df` というDataFrameの変数があり、中に `a`,`b` というカラムが存在するとき、`df['c'] = df['a'] + df['b']` と記述することで、a列とb列の加算結果を c という新しい列として df に追加してくれます。"
   ]
  },
  {
   "cell_type": "code",
   "execution_count": null,
   "metadata": {},
   "outputs": [],
   "source": [
    "# 「1stFlrSF」と「2ndFlrSF」を合計した「FlrSF_total」を新たな列としてdatasetに加える\n"
   ]
  },
  {
   "cell_type": "code",
   "execution_count": null,
   "metadata": {},
   "outputs": [],
   "source": [
    "# datasetからloc関数を使用して「1stFlrSF」と「2ndFlrSF」、「FlrSF_total」を先頭から5行分表示し、正しく追加されていることを確認する\n"
   ]
  },
  {
   "cell_type": "markdown",
   "metadata": {},
   "source": [
    " ### ダミー変数の作成\n",
    " \n",
    "列 `SaleType` は `WD`, `New`, `COD` などで構成されたカテゴリーデータです。 `get_dummies()` 関数を使用してダミー変数に変換しましょう。\n",
    "\n",
    "参考：http://pandas.pydata.org/pandas-docs/version/0.23/generated/pandas.get_dummies.html"
   ]
  },
  {
   "cell_type": "code",
   "execution_count": null,
   "metadata": {},
   "outputs": [],
   "source": [
    "# 列'SaleType'をダミー変数に展開したものを変数 dataset に上書きします。\n"
   ]
  },
  {
   "cell_type": "code",
   "execution_count": null,
   "metadata": {},
   "outputs": [],
   "source": [
    "# ダミー変数が作成されていることを確認します　(datasetの最初の5行だけ出力)\n"
   ]
  },
  {
   "cell_type": "markdown",
   "metadata": {},
   "source": [
    "### フィルタリング\n",
    "\n",
    "DataFrameの `query()` を使いフィルタリングを行いましょう\n",
    "\n",
    "参考：http://pandas.pydata.org/pandas-docs/version/0.23/generated/pandas.DataFrame.query.html"
   ]
  },
  {
   "cell_type": "code",
   "execution_count": null,
   "metadata": {},
   "outputs": [],
   "source": [
    "# 'YearBuilt'が2000以降の物件のみを抽出し、最初の5件のみ表示\n"
   ]
  },
  {
   "cell_type": "markdown",
   "metadata": {},
   "source": [
    "`dataset.query('LotArea >= 15000 and MSSubClass >= 50')` のように複数の条件を指定することも可能です。"
   ]
  },
  {
   "cell_type": "code",
   "execution_count": null,
   "metadata": {},
   "outputs": [],
   "source": [
    "# 'YearBuilt'が2000以降、'GarageCars'が2以上の物件を抽出\n"
   ]
  },
  {
   "cell_type": "markdown",
   "metadata": {},
   "source": [
    "## 5. データの可視化"
   ]
  },
  {
   "cell_type": "markdown",
   "metadata": {},
   "source": [
    "データを理解するには要約統計量や抽出したデータを確認するだけでは不十分であり、可視化が必要です。"
   ]
  },
  {
   "cell_type": "markdown",
   "metadata": {},
   "source": [
    "### ヒストグラム\n",
    "\n",
    "連続変数の分布を確認する際に有効です。DataFrameの `hist()` が使えます。\n",
    "\n",
    "参考：http://pandas.pydata.org/pandas-docs/version/0.23/generated/pandas.DataFrame.hist.html"
   ]
  },
  {
   "cell_type": "code",
   "execution_count": null,
   "metadata": {},
   "outputs": [],
   "source": [
    "# datasetの'SalePrice'をヒストグラムで表示\n"
   ]
  },
  {
   "cell_type": "markdown",
   "metadata": {},
   "source": [
    "### 散布図\n",
    "\n",
    "2つの変数の関係性を確認する際に有効です。DataFrameの `plot()` が使えます。\n",
    "\n",
    "参考：http://pandas.pydata.org/pandas-docs/version/0.23/generated/pandas.DataFrame.plot.html"
   ]
  },
  {
   "cell_type": "code",
   "execution_count": null,
   "metadata": {},
   "outputs": [],
   "source": [
    "# datasetの'LotArea'と'SalePrice'を散布図で表示\n"
   ]
  },
  {
   "cell_type": "markdown",
   "metadata": {},
   "source": [
    "### 棒グラフ\n",
    "\n",
    "大小や増減を比較する際に有効です。DataFrameの `plot.bar()` が使えます。\n",
    "\n",
    "参考：http://pandas.pydata.org/pandas-docs/version/0.23/generated/pandas.DataFrame.plot.bar.html"
   ]
  },
  {
   "cell_type": "code",
   "execution_count": null,
   "metadata": {},
   "outputs": [],
   "source": [
    "#'SalePrice'のSaleCondition毎の平均を変数　price_by_conditionに格納\n",
    "\n",
    "\n",
    "# price_by_conditionが持つ、棒グラフを表示する命令を実行\n"
   ]
  },
  {
   "cell_type": "markdown",
   "metadata": {},
   "source": [
    "### 箱ヒゲ図 (Boxplot) \n",
    "\n",
    "複数の変数の分布を比較する際に有効です。 （棒グラフでは平均の比較はできますが、分布全体の比較はできません)\n",
    "\n",
    "DataFrameの `boxplot()` が使えます。\n",
    "\n",
    "参考：http://pandas.pydata.org/pandas-docs/version/0.23/generated/pandas.DataFrame.boxplot.html"
   ]
  },
  {
   "cell_type": "code",
   "execution_count": null,
   "metadata": {},
   "outputs": [],
   "source": [
    "# datasetの'SaleCondition'ごとに'SalePrice'をboxplotで表示\n"
   ]
  },
  {
   "cell_type": "markdown",
   "metadata": {},
   "source": [
    "## 6. 欠損値の確認\n",
    "\n",
    "ある列が欠損値を持っているかどうかは Pandas の `isnull()` でもわかります。カリキュラムにて学習した DataFrame の`isnull()`と同様に、`pd.isnull(dataset['LotFrontage'])`　のように記述します。また、`.sum()` をつなげることで、その列で欠損値を持つ行数がわかります。\n",
    "\n",
    "参考：http://pandas.pydata.org/pandas-docs/version/0.23/generated/pandas.isnull.html"
   ]
  },
  {
   "cell_type": "code",
   "execution_count": null,
   "metadata": {},
   "outputs": [],
   "source": [
    "# 列ごとに欠損値の有無を確認\n"
   ]
  }
 ],
 "metadata": {
  "anaconda-cloud": {},
  "kernelspec": {
   "display_name": "Python 3",
   "language": "python",
   "name": "python3"
  },
  "language_info": {
   "codemirror_mode": {
    "name": "ipython",
    "version": 3
   },
   "file_extension": ".py",
   "mimetype": "text/x-python",
   "name": "python",
   "nbconvert_exporter": "python",
   "pygments_lexer": "ipython3",
   "version": "3.7.3"
  }
 },
 "nbformat": 4,
 "nbformat_minor": 1
}
