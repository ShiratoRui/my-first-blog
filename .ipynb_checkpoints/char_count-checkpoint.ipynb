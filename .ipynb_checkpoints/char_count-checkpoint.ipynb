{
 "cells": [
  {
   "cell_type": "code",
   "execution_count": 59,
   "id": "0f2e8f84",
   "metadata": {},
   "outputs": [],
   "source": [
    "#英単語格納用リスト作成\n",
    "keylist = []"
   ]
  },
  {
   "cell_type": "code",
   "execution_count": 60,
   "id": "19f3c80e",
   "metadata": {},
   "outputs": [],
   "source": [
    "#\n",
    "char_count = dict.fromkeys(list(\"abcdefghijklmnopqrstuvwxyz\"), 0)"
   ]
  },
  {
   "cell_type": "code",
   "execution_count": 61,
   "id": "cad8ea01",
   "metadata": {},
   "outputs": [
    {
     "name": "stdin",
     "output_type": "stream",
     "text": [
      "英単語を入力してください： jvjvvv\n",
      "英単語を入力してください： \n"
     ]
    }
   ],
   "source": [
    "# リストへ登録\n",
    "while True:\n",
    "    #キーボードから英単語の入力\n",
    "    a = input(\"英単語を入力してください：\")\n",
    "\n",
    "    #リターンキーで終了\n",
    "    if a == \"\":\n",
    "        break\n",
    "\n",
    "    #リストに追加\n",
    "    keylist.append(a) \n",
    "    \n",
    "    #辞書内の数字に加算\n",
    "    for code in char_count.keys():\n",
    "    \n",
    "        if code in a:\n",
    "            char_count[code] += a.count(code)   "
   ]
  },
  {
   "cell_type": "code",
   "execution_count": 62,
   "id": "401c7b18",
   "metadata": {},
   "outputs": [],
   "source": [
    "#ABC順にソート\n",
    "keylist.sort()"
   ]
  },
  {
   "cell_type": "code",
   "execution_count": 63,
   "id": "b6e87e27",
   "metadata": {},
   "outputs": [
    {
     "name": "stdout",
     "output_type": "stream",
     "text": [
      "入力した英単語: ['jvjvvv']\n"
     ]
    }
   ],
   "source": [
    "#一覧表示\n",
    "print(\"入力した英単語:\",keylist)"
   ]
  },
  {
   "cell_type": "code",
   "execution_count": 64,
   "id": "1eed8dea",
   "metadata": {},
   "outputs": [
    {
     "name": "stdout",
     "output_type": "stream",
     "text": [
      "j が 2 個ありました\n",
      "v が 4 個ありました\n"
     ]
    }
   ],
   "source": [
    "for code in char_count.keys():\n",
    "    if char_count[code] != 0:\n",
    "            print(code,\"が\",char_count[code],\"個ありました\")"
   ]
  }
 ],
 "metadata": {
  "kernelspec": {
   "display_name": "Python 3 (ipykernel)",
   "language": "python",
   "name": "python3"
  },
  "language_info": {
   "codemirror_mode": {
    "name": "ipython",
    "version": 3
   },
   "file_extension": ".py",
   "mimetype": "text/x-python",
   "name": "python",
   "nbconvert_exporter": "python",
   "pygments_lexer": "ipython3",
   "version": "3.8.3"
  }
 },
 "nbformat": 4,
 "nbformat_minor": 5
}
