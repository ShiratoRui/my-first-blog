{
 "cells": [
  {
   "cell_type": "code",
   "execution_count": 1,
   "id": "27a3dea1",
   "metadata": {},
   "outputs": [
    {
     "ename": "SyntaxError",
     "evalue": "invalid syntax (919702918.py, line 8)",
     "output_type": "error",
     "traceback": [
      "\u001b[0;36m  Cell \u001b[0;32mIn[1], line 8\u001b[0;36m\u001b[0m\n\u001b[0;31m    num = [\"Fizz\" if i%3 = 0 else \"Buzz\" if i%5 = 0 else \"FizzBuzz\" (i%3 = 0) & (i%5 = 0) else i for i in range(101)]\u001b[0m\n\u001b[0m                         ^\u001b[0m\n\u001b[0;31mSyntaxError\u001b[0m\u001b[0;31m:\u001b[0m invalid syntax\n"
     ]
    }
   ],
   "source": [
    "\"\"\"\n",
    "1から100まで繰り返し処理実施\n",
    "3で割り切れる数のときは “Fizz”を、\n",
    "5で割り切れる数のときは “Buzz”を、\n",
    "3で割り切れて、なおかつ5で割り切れる数のときは “FizzBuzz” \n",
    "それ以外の数値の場合は、その数値をそのままリストに追加\n",
    "\"\"\"\n",
    "num = [\"Fizz\" if i%3 == 0 else \"Buzz\" if i%5 == 0 else \"FizzBuzz\" (i%3 == 0) & (i%5 == 0) else i for i in range(101)]"
   ]
  },
  {
   "cell_type": "code",
   "execution_count": null,
   "id": "468cabaf",
   "metadata": {},
   "outputs": [],
   "source": []
  }
 ],
 "metadata": {
  "kernelspec": {
   "display_name": "Python 3 (ipykernel)",
   "language": "python",
   "name": "python3"
  },
  "language_info": {
   "codemirror_mode": {
    "name": "ipython",
    "version": 3
   },
   "file_extension": ".py",
   "mimetype": "text/x-python",
   "name": "python",
   "nbconvert_exporter": "python",
   "pygments_lexer": "ipython3",
   "version": "3.8.3"
  }
 },
 "nbformat": 4,
 "nbformat_minor": 5
}
