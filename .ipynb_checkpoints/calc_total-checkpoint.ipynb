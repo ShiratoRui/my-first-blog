{
 "cells": [
  {
   "cell_type": "code",
   "execution_count": 61,
   "id": "322f10e3",
   "metadata": {},
   "outputs": [
    {
     "name": "stdin",
     "output_type": "stream",
     "text": [
      "税抜価格を入力してください： 2000\n"
     ]
    }
   ],
   "source": [
    "#キーボードから税抜価格の入力\n",
    "price = int(input(\"税抜価格を入力してください：\"))"
   ]
  },
  {
   "cell_type": "code",
   "execution_count": 62,
   "id": "aac07368",
   "metadata": {},
   "outputs": [],
   "source": [
    "#税込価格を計算(小数点以下は切り捨て)\n",
    "price_sum = int(price * 1.1)"
   ]
  },
  {
   "cell_type": "code",
   "execution_count": 63,
   "id": "16af8863",
   "metadata": {},
   "outputs": [
    {
     "name": "stdout",
     "output_type": "stream",
     "text": [
      "送料は無料です\n"
     ]
    }
   ],
   "source": [
    "#税込2000円未満の場合送料を加算\n",
    "if price_sum >= 2000 :\n",
    "    print(\"送料は無料です\")\n",
    "else:\n",
    "    print(\"送料として350円かかります\")\n",
    "    price_sum += 350"
   ]
  },
  {
   "cell_type": "code",
   "execution_count": 64,
   "id": "60ffafbc",
   "metadata": {},
   "outputs": [
    {
     "name": "stdout",
     "output_type": "stream",
     "text": [
      "送料込みの価格は 2200 円です。\n"
     ]
    }
   ],
   "source": [
    "#送料込みの価格を画面に表示\n",
    "print(\"送料込みの価格は\",price_sum,\"円です。\")"
   ]
  },
  {
   "cell_type": "code",
   "execution_count": null,
   "id": "d68e3077",
   "metadata": {},
   "outputs": [],
   "source": []
  }
 ],
 "metadata": {
  "kernelspec": {
   "display_name": "Python 3 (ipykernel)",
   "language": "python",
   "name": "python3"
  },
  "language_info": {
   "codemirror_mode": {
    "name": "ipython",
    "version": 3
   },
   "file_extension": ".py",
   "mimetype": "text/x-python",
   "name": "python",
   "nbconvert_exporter": "python",
   "pygments_lexer": "ipython3",
   "version": "3.8.3"
  }
 },
 "nbformat": 4,
 "nbformat_minor": 5
}
