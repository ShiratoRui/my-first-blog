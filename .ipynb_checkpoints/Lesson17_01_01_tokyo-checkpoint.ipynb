{
 "cells": [
  {
   "cell_type": "code",
   "execution_count": 1,
   "id": "e9150bd1",
   "metadata": {},
   "outputs": [],
   "source": [
    "# 必要なライブラリのインポート\n",
    "import pandas as pd\n",
    "import numpy as np\n",
    "import matplotlib.pyplot as plt\n",
    "from sklearn.linear_model import LinearRegression\n",
    "%matplotlib inline"
   ]
  },
  {
   "cell_type": "code",
   "execution_count": 2,
   "id": "ffecb1f7",
   "metadata": {},
   "outputs": [
    {
     "data": {
      "text/html": [
       "<div>\n",
       "<style scoped>\n",
       "    .dataframe tbody tr th:only-of-type {\n",
       "        vertical-align: middle;\n",
       "    }\n",
       "\n",
       "    .dataframe tbody tr th {\n",
       "        vertical-align: top;\n",
       "    }\n",
       "\n",
       "    .dataframe thead th {\n",
       "        text-align: right;\n",
       "    }\n",
       "</style>\n",
       "<table border=\"1\" class=\"dataframe\">\n",
       "  <thead>\n",
       "    <tr style=\"text-align: right;\">\n",
       "      <th></th>\n",
       "      <th>集計年</th>\n",
       "      <th>都道府県コード</th>\n",
       "      <th>都道府県名</th>\n",
       "      <th>総人口</th>\n",
       "    </tr>\n",
       "  </thead>\n",
       "  <tbody>\n",
       "    <tr>\n",
       "      <th>0</th>\n",
       "      <td>1960</td>\n",
       "      <td>1</td>\n",
       "      <td>北海道</td>\n",
       "      <td>5039206.0</td>\n",
       "    </tr>\n",
       "    <tr>\n",
       "      <th>1</th>\n",
       "      <td>1960</td>\n",
       "      <td>2</td>\n",
       "      <td>青森県</td>\n",
       "      <td>1426606.0</td>\n",
       "    </tr>\n",
       "    <tr>\n",
       "      <th>2</th>\n",
       "      <td>1960</td>\n",
       "      <td>3</td>\n",
       "      <td>岩手県</td>\n",
       "      <td>1448517.0</td>\n",
       "    </tr>\n",
       "    <tr>\n",
       "      <th>3</th>\n",
       "      <td>1960</td>\n",
       "      <td>4</td>\n",
       "      <td>宮城県</td>\n",
       "      <td>1743195.0</td>\n",
       "    </tr>\n",
       "    <tr>\n",
       "      <th>4</th>\n",
       "      <td>1960</td>\n",
       "      <td>5</td>\n",
       "      <td>秋田県</td>\n",
       "      <td>1335580.0</td>\n",
       "    </tr>\n",
       "  </tbody>\n",
       "</table>\n",
       "</div>"
      ],
      "text/plain": [
       "    集計年  都道府県コード 都道府県名        総人口\n",
       "0  1960        1   北海道  5039206.0\n",
       "1  1960        2   青森県  1426606.0\n",
       "2  1960        3   岩手県  1448517.0\n",
       "3  1960        4   宮城県  1743195.0\n",
       "4  1960        5   秋田県  1335580.0"
      ]
     },
     "execution_count": 2,
     "metadata": {},
     "output_type": "execute_result"
    }
   ],
   "source": [
    "# 人口構成のCSVファイルの読み込み\n",
    "df = pd.read_csv(\"population_data/japan_population.csv\")\n",
    "df.head()"
   ]
  },
  {
   "cell_type": "code",
   "execution_count": 3,
   "id": "f46a4bed",
   "metadata": {},
   "outputs": [
    {
     "data": {
      "text/plain": [
       "(3055, 4)"
      ]
     },
     "execution_count": 3,
     "metadata": {},
     "output_type": "execute_result"
    }
   ],
   "source": [
    "# 全件数の確認\n",
    "df.shape"
   ]
  },
  {
   "cell_type": "code",
   "execution_count": 4,
   "id": "06f89158",
   "metadata": {},
   "outputs": [
    {
     "data": {
      "text/html": [
       "<div>\n",
       "<style scoped>\n",
       "    .dataframe tbody tr th:only-of-type {\n",
       "        vertical-align: middle;\n",
       "    }\n",
       "\n",
       "    .dataframe tbody tr th {\n",
       "        vertical-align: top;\n",
       "    }\n",
       "\n",
       "    .dataframe thead th {\n",
       "        text-align: right;\n",
       "    }\n",
       "</style>\n",
       "<table border=\"1\" class=\"dataframe\">\n",
       "  <thead>\n",
       "    <tr style=\"text-align: right;\">\n",
       "      <th></th>\n",
       "      <th>集計年</th>\n",
       "      <th>都道府県コード</th>\n",
       "      <th>都道府県名</th>\n",
       "      <th>総人口</th>\n",
       "    </tr>\n",
       "  </thead>\n",
       "  <tbody>\n",
       "    <tr>\n",
       "      <th>12</th>\n",
       "      <td>1960</td>\n",
       "      <td>13</td>\n",
       "      <td>東京都</td>\n",
       "      <td>9683802.0</td>\n",
       "    </tr>\n",
       "    <tr>\n",
       "      <th>59</th>\n",
       "      <td>1961</td>\n",
       "      <td>13</td>\n",
       "      <td>東京都</td>\n",
       "      <td>9967000.0</td>\n",
       "    </tr>\n",
       "    <tr>\n",
       "      <th>106</th>\n",
       "      <td>1962</td>\n",
       "      <td>13</td>\n",
       "      <td>東京都</td>\n",
       "      <td>10224000.0</td>\n",
       "    </tr>\n",
       "    <tr>\n",
       "      <th>153</th>\n",
       "      <td>1963</td>\n",
       "      <td>13</td>\n",
       "      <td>東京都</td>\n",
       "      <td>10470000.0</td>\n",
       "    </tr>\n",
       "    <tr>\n",
       "      <th>200</th>\n",
       "      <td>1964</td>\n",
       "      <td>13</td>\n",
       "      <td>東京都</td>\n",
       "      <td>10668000.0</td>\n",
       "    </tr>\n",
       "    <tr>\n",
       "      <th>247</th>\n",
       "      <td>1965</td>\n",
       "      <td>13</td>\n",
       "      <td>東京都</td>\n",
       "      <td>10869244.0</td>\n",
       "    </tr>\n",
       "    <tr>\n",
       "      <th>294</th>\n",
       "      <td>1966</td>\n",
       "      <td>13</td>\n",
       "      <td>東京都</td>\n",
       "      <td>11018000.0</td>\n",
       "    </tr>\n",
       "    <tr>\n",
       "      <th>341</th>\n",
       "      <td>1967</td>\n",
       "      <td>13</td>\n",
       "      <td>東京都</td>\n",
       "      <td>11162000.0</td>\n",
       "    </tr>\n",
       "    <tr>\n",
       "      <th>388</th>\n",
       "      <td>1968</td>\n",
       "      <td>13</td>\n",
       "      <td>東京都</td>\n",
       "      <td>11286000.0</td>\n",
       "    </tr>\n",
       "    <tr>\n",
       "      <th>435</th>\n",
       "      <td>1969</td>\n",
       "      <td>13</td>\n",
       "      <td>東京都</td>\n",
       "      <td>11367000.0</td>\n",
       "    </tr>\n",
       "  </tbody>\n",
       "</table>\n",
       "</div>"
      ],
      "text/plain": [
       "      集計年  都道府県コード 都道府県名         総人口\n",
       "12   1960       13   東京都   9683802.0\n",
       "59   1961       13   東京都   9967000.0\n",
       "106  1962       13   東京都  10224000.0\n",
       "153  1963       13   東京都  10470000.0\n",
       "200  1964       13   東京都  10668000.0\n",
       "247  1965       13   東京都  10869244.0\n",
       "294  1966       13   東京都  11018000.0\n",
       "341  1967       13   東京都  11162000.0\n",
       "388  1968       13   東京都  11286000.0\n",
       "435  1969       13   東京都  11367000.0"
      ]
     },
     "execution_count": 4,
     "metadata": {},
     "output_type": "execute_result"
    }
   ],
   "source": [
    "tokyo = df[df[\"都道府県名\"] == \"東京都\"]\n",
    "tokyo.head(10)"
   ]
  },
  {
   "cell_type": "code",
   "execution_count": 5,
   "id": "732f765b",
   "metadata": {},
   "outputs": [],
   "source": [
    "# 1960年から2015年までの東京都の総人口数データを機械学習にかける。\n",
    "# ある年の総人口数を説明変数X、その翌年の総人口数を目的変数yに設定する\n",
    "# （Xは縦56行・横1列の二次元配列、yは長さ56の一次元配列としてndarrayを作成する）\n",
    "X = np.empty((56, 1), dtype=np.uint32)\n",
    "y = np.empty(56 , dtype=np.uint32)\n",
    "\n",
    "# 人口はデータの左から3番目\n",
    "for i in range(56):\n",
    "    X[i][0] = tokyo.iloc[i, 3]\n",
    "    y[i] = tokyo.iloc[i + 1, 3]"
   ]
  },
  {
   "cell_type": "code",
   "execution_count": 6,
   "id": "2d6fec54",
   "metadata": {},
   "outputs": [
    {
     "data": {
      "text/plain": [
       "array([[ 9683802],\n",
       "       [ 9967000],\n",
       "       [10224000],\n",
       "       [10470000],\n",
       "       [10668000],\n",
       "       [10869244],\n",
       "       [11018000],\n",
       "       [11162000],\n",
       "       [11286000],\n",
       "       [11367000]], dtype=uint32)"
      ]
     },
     "execution_count": 6,
     "metadata": {},
     "output_type": "execute_result"
    }
   ],
   "source": [
    "X[0:10]"
   ]
  },
  {
   "cell_type": "code",
   "execution_count": 7,
   "id": "7902cfc3",
   "metadata": {},
   "outputs": [
    {
     "data": {
      "text/plain": [
       "array([ 9967000, 10224000, 10470000, 10668000, 10869244, 11018000,\n",
       "       11162000, 11286000, 11367000, 11408071], dtype=uint32)"
      ]
     },
     "execution_count": 7,
     "metadata": {},
     "output_type": "execute_result"
    }
   ],
   "source": [
    "y[0:10]"
   ]
  },
  {
   "cell_type": "code",
   "execution_count": 8,
   "id": "6204c3bf",
   "metadata": {},
   "outputs": [],
   "source": [
    "# 1960年から2009年までを訓練データ、\n",
    "# 2010年以降をテストデータとして分割する\n",
    "X_train = X[:50]\n",
    "X_test = X[50:]\n",
    "y_train = y[:50]\n",
    "y_test = y[50:]"
   ]
  },
  {
   "cell_type": "code",
   "execution_count": 9,
   "id": "54446d2e",
   "metadata": {},
   "outputs": [
    {
     "data": {
      "text/plain": [
       "LinearRegression()"
      ]
     },
     "execution_count": 9,
     "metadata": {},
     "output_type": "execute_result"
    }
   ],
   "source": [
    "# 線形回帰モデルの作成と学習の実行\n",
    "model = LinearRegression()\n",
    "model.fit(X_train, y_train)"
   ]
  },
  {
   "cell_type": "code",
   "execution_count": 17,
   "id": "a674cddd",
   "metadata": {},
   "outputs": [],
   "source": [
    "# テストデータで「翌年の総人口」予測の実施\n",
    "y_pred = model.predict(X_test)"
   ]
  },
  {
   "cell_type": "code",
   "execution_count": 18,
   "id": "d1db49ec",
   "metadata": {},
   "outputs": [
    {
     "data": {
      "text/plain": [
       "array([13149404, 13185920, 13219966, 13289004, 13376011, 13485972],\n",
       "      dtype=uint32)"
      ]
     },
     "execution_count": 18,
     "metadata": {},
     "output_type": "execute_result"
    }
   ],
   "source": [
    "# 予測結果は実数値のため、整数値に変換\n",
    "y_pred = y_pred.astype(np.uint32)\n",
    "y_pred"
   ]
  },
  {
   "cell_type": "code",
   "execution_count": 19,
   "id": "714f8e40",
   "metadata": {},
   "outputs": [
    {
     "data": {
      "text/plain": [
       "array([13198000, 13234000, 13307000, 13399000, 13515271, 13624000],\n",
       "      dtype=uint32)"
      ]
     },
     "execution_count": 19,
     "metadata": {},
     "output_type": "execute_result"
    }
   ],
   "source": [
    "# 正解の表示\n",
    "y_test"
   ]
  },
  {
   "cell_type": "code",
   "execution_count": 20,
   "id": "90b932e8",
   "metadata": {},
   "outputs": [],
   "source": [
    "# 正解値とグラフで比較するため\n",
    "# 実測値と予測値とを連結させた配列y_pred_grを作成\n",
    "y_pred_gr = np.concatenate([y_train, y_pred])"
   ]
  },
  {
   "cell_type": "code",
   "execution_count": 21,
   "id": "22f8357d",
   "metadata": {},
   "outputs": [
    {
     "data": {
      "text/plain": [
       "<matplotlib.legend.Legend at 0x7fa24af1d340>"
      ]
     },
     "execution_count": 21,
     "metadata": {},
     "output_type": "execute_result"
    },
    {
     "data": {
      "image/png": "[encoded data removed]",
      "text/plain": [
       "<Figure size 640x480 with 1 Axes>"
      ]
     },
     "metadata": {},
     "output_type": "display_data"
    }
   ],
   "source": [
    "# 正解値と予測値のグラフ表示\n",
    "plt.plot(range(56), y_pred_gr, label='Predicted', color='red')\n",
    "plt.plot(range(56), y, label='Actual', color='blue')\n",
    "plt.xlabel('Years')\n",
    "plt.ylabel('Population')\n",
    "plt.title(\"Tokyo's population\")\n",
    "plt.grid(True)\n",
    "plt.legend(loc = \"upper left\")"
   ]
  },
  {
   "cell_type": "code",
   "execution_count": null,
   "id": "f7abfbed",
   "metadata": {},
   "outputs": [],
   "source": []
  }
 ],
 "metadata": {
  "kernelspec": {
   "display_name": "Python 3 (ipykernel)",
   "language": "python",
   "name": "python3"
  },
  "language_info": {
   "codemirror_mode": {
    "name": "ipython",
    "version": 3
   },
   "file_extension": ".py",
   "mimetype": "text/x-python",
   "name": "python",
   "nbconvert_exporter": "python",
   "pygments_lexer": "ipython3",
   "version": "3.8.3"
  }
 },
 "nbformat": 4,
 "nbformat_minor": 5
}
