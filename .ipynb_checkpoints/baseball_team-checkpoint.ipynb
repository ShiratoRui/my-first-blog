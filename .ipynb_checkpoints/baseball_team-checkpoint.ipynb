{
 "cells": [
  {
   "cell_type": "code",
   "execution_count": 1,
   "id": "731b6699",
   "metadata": {},
   "outputs": [],
   "source": [
    "class Baseball_Team:\n",
    "    #コンストラクタ\n",
    "    def __init__(self,name,win,lose,draw):\n",
    "        \n",
    "        self.name = name\n",
    "        self.win = win\n",
    "        self.lose = lose\n",
    "        self.draw = draw\n",
    "\n",
    "    #勝率算出メソッド\n",
    "    def calc_win_rate(self):\n",
    "        rate = '{:.3f}'.format(self.win / (self.win + self.lose))\n",
    "        return rate\n",
    "    \n",
    "    #勝敗情報出力メソッド\n",
    "    def show_team_result(self):\n",
    "        print(\"{:<8s}\".format(self.name),\"{:>3d}\".format(self.win),\"{:>4d}\".format(self.lose),\"{:>4d}\".format(self.draw),self.calc_win_rate())"
   ]
  },
  {
   "cell_type": "code",
   "execution_count": 2,
   "id": "03c81624",
   "metadata": {},
   "outputs": [
    {
     "name": "stdout",
     "output_type": "stream",
     "text": [
      "team     win lose draw rate\n",
      "Giants    77   64    2 0.546\n",
      "BayStars  71   69    3 0.507\n",
      "Tigers    69   68    6 0.504\n",
      "Carp      70   70    3 0.500\n",
      "Dragons   68   73    2 0.482\n",
      "Swallows  59   82    2 0.418\n"
     ]
    }
   ],
   "source": [
    "#インスタンス生成\n",
    "giants = Baseball_Team(\"Giants\",77,64,2)\n",
    "bayStars = Baseball_Team(\"BayStars\",71,69,3)\n",
    "tigers = Baseball_Team(\"Tigers\",69,68,6)\n",
    "carp = Baseball_Team(\"Carp\",70,70,3)\n",
    "dragons = Baseball_Team(\"Dragons\",68,73,2)\n",
    "swallows = Baseball_Team(\"Swallows\",59,82,2)\n",
    "\n",
    "#勝敗情報出力\n",
    "print(\"team     win lose draw rate\")\n",
    "giants.show_team_result()\n",
    "bayStars.show_team_result()\n",
    "tigers.show_team_result()\n",
    "carp.show_team_result()\n",
    "dragons.show_team_result()\n",
    "swallows.show_team_result()"
   ]
  },
  {
   "cell_type": "code",
   "execution_count": null,
   "id": "ef84ee6a",
   "metadata": {},
   "outputs": [],
   "source": []
  }
 ],
 "metadata": {
  "kernelspec": {
   "display_name": "Python 3 (ipykernel)",
   "language": "python",
   "name": "python3"
  },
  "language_info": {
   "codemirror_mode": {
    "name": "ipython",
    "version": 3
   },
   "file_extension": ".py",
   "mimetype": "text/x-python",
   "name": "python",
   "nbconvert_exporter": "python",
   "pygments_lexer": "ipython3",
   "version": "3.8.3"
  }
 },
 "nbformat": 4,
 "nbformat_minor": 5
}
