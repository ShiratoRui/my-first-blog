{
 "cells": [
  {
   "cell_type": "code",
   "execution_count": 14,
   "id": "5037cdaa",
   "metadata": {},
   "outputs": [
    {
     "name": "stdin",
     "output_type": "stream",
     "text": [
      "割られる数を入力してください： 25\n",
      "割る数を入力してください： a\n"
     ]
    },
    {
     "name": "stdout",
     "output_type": "stream",
     "text": [
      "エラー：数値を入力してください\n",
      "処理を終了します\n"
     ]
    }
   ],
   "source": [
    "try:\n",
    "    a = int(input(\"割られる数を入力してください：\"))\n",
    "    b = int(input(\"割る数を入力してください：\"))\n",
    "    \n",
    "    c = a / b\n",
    "    \n",
    "    print(f\"{a} ÷ {b} = {c}\")\n",
    "\n",
    "except ValueError:\n",
    "    print(\"エラー：数値を入力してください\")    \n",
    "except ZeroDivisionError : \n",
    "    print(\"エラー：0で割り算しないでください\")    \n",
    "\n",
    "finally:\n",
    "    print(\"処理を終了します\")"
   ]
  },
  {
   "cell_type": "code",
   "execution_count": null,
   "id": "ab25acfc",
   "metadata": {},
   "outputs": [],
   "source": []
  }
 ],
 "metadata": {
  "kernelspec": {
   "display_name": "Python 3 (ipykernel)",
   "language": "python",
   "name": "python3"
  },
  "language_info": {
   "codemirror_mode": {
    "name": "ipython",
    "version": 3
   },
   "file_extension": ".py",
   "mimetype": "text/x-python",
   "name": "python",
   "nbconvert_exporter": "python",
   "pygments_lexer": "ipython3",
   "version": "3.8.3"
  }
 },
 "nbformat": 4,
 "nbformat_minor": 5
}
