{
 "cells": [
  {
   "cell_type": "code",
   "execution_count": 1,
   "id": "17da0d40",
   "metadata": {},
   "outputs": [],
   "source": [
    "# 必要なライブラリのインポート\n",
    "import pandas as pd\n",
    "import numpy as np\n",
    "from sklearn.linear_model import LinearRegression\n",
    "from sklearn.ensemble import RandomForestRegressor\n",
    "from sklearn.svm import SVR"
   ]
  },
  {
   "cell_type": "code",
   "execution_count": 2,
   "id": "72aa0753",
   "metadata": {},
   "outputs": [
    {
     "data": {
      "text/html": [
       "<div>\n",
       "<style scoped>\n",
       "    .dataframe tbody tr th:only-of-type {\n",
       "        vertical-align: middle;\n",
       "    }\n",
       "\n",
       "    .dataframe tbody tr th {\n",
       "        vertical-align: top;\n",
       "    }\n",
       "\n",
       "    .dataframe thead th {\n",
       "        text-align: right;\n",
       "    }\n",
       "</style>\n",
       "<table border=\"1\" class=\"dataframe\">\n",
       "  <thead>\n",
       "    <tr style=\"text-align: right;\">\n",
       "      <th></th>\n",
       "      <th>集計年</th>\n",
       "      <th>都道府県コード</th>\n",
       "      <th>都道府県名</th>\n",
       "      <th>総人口</th>\n",
       "    </tr>\n",
       "  </thead>\n",
       "  <tbody>\n",
       "    <tr>\n",
       "      <th>0</th>\n",
       "      <td>1960</td>\n",
       "      <td>1</td>\n",
       "      <td>北海道</td>\n",
       "      <td>5039206.0</td>\n",
       "    </tr>\n",
       "    <tr>\n",
       "      <th>1</th>\n",
       "      <td>1960</td>\n",
       "      <td>2</td>\n",
       "      <td>青森県</td>\n",
       "      <td>1426606.0</td>\n",
       "    </tr>\n",
       "    <tr>\n",
       "      <th>2</th>\n",
       "      <td>1960</td>\n",
       "      <td>3</td>\n",
       "      <td>岩手県</td>\n",
       "      <td>1448517.0</td>\n",
       "    </tr>\n",
       "    <tr>\n",
       "      <th>3</th>\n",
       "      <td>1960</td>\n",
       "      <td>4</td>\n",
       "      <td>宮城県</td>\n",
       "      <td>1743195.0</td>\n",
       "    </tr>\n",
       "    <tr>\n",
       "      <th>4</th>\n",
       "      <td>1960</td>\n",
       "      <td>5</td>\n",
       "      <td>秋田県</td>\n",
       "      <td>1335580.0</td>\n",
       "    </tr>\n",
       "  </tbody>\n",
       "</table>\n",
       "</div>"
      ],
      "text/plain": [
       "    集計年  都道府県コード 都道府県名        総人口\n",
       "0  1960        1   北海道  5039206.0\n",
       "1  1960        2   青森県  1426606.0\n",
       "2  1960        3   岩手県  1448517.0\n",
       "3  1960        4   宮城県  1743195.0\n",
       "4  1960        5   秋田県  1335580.0"
      ]
     },
     "execution_count": 2,
     "metadata": {},
     "output_type": "execute_result"
    }
   ],
   "source": [
    "# 人口構成のCSVファイルの読み込み\n",
    "df = pd.read_csv(\"population_data/japan_population.csv\")\n",
    "df.head()"
   ]
  },
  {
   "cell_type": "code",
   "execution_count": 3,
   "id": "1a985288",
   "metadata": {},
   "outputs": [
    {
     "data": {
      "text/plain": [
       "array([[      1,       0,       0,       0,       0,       0, 2047024],\n",
       "       [      0,       1,       0,       0,       0,       0, 1513624],\n",
       "       [      0,       0,       1,       0,       0,       0, 1578476],\n",
       "       [      0,       0,       0,       1,       0,       0, 2430871],\n",
       "       [      0,       0,       0,       0,       1,       0, 2306010],\n",
       "       [      0,       0,       0,       0,       0,       1, 9683802],\n",
       "       [      0,       0,       0,       0,       0,       0, 3443176],\n",
       "       [      1,       0,       0,       0,       0,       0, 2053000],\n",
       "       [      0,       1,       0,       0,       0,       0, 1513000],\n",
       "       [      0,       0,       1,       0,       0,       0, 1581000]],\n",
       "      dtype=uint32)"
      ]
     },
     "execution_count": 3,
     "metadata": {},
     "output_type": "execute_result"
    }
   ],
   "source": [
    "# 1960年から2015年までの関東地方各県の総人口数データを機械学習にかける。\n",
    "# ある年の都道府県コードをカテゴリ値 とした上で ダミー変数化したものと総人口数を説明変数X、その翌年の総人口数を目的変数yに設定する\n",
    "# （Xは縦56×7行の横7列の二次元配列、yは縦56×7の長さの1次元配列としてndarrayを作成する）\n",
    "X = np.zeros((56 * 7,7), dtype=np.uint32)\n",
    "y = np.zeros(56 * 7, dtype=np.uint32)\n",
    "\n",
    "cnt = 0\n",
    "for i in range(56 * 47):\n",
    "    pref_id = df.iloc[i, 1]\n",
    "    population = df.iloc[i, 3]\n",
    "    next_population = df.iloc[i + 47, 3]\n",
    "\n",
    "    if pref_id >= 8 and pref_id <= 14:    #pref_id 8(茨城県)から、pref_id 14(神奈川県)を計測データXに格納する。  \n",
    "        if pref_id < 14:                  #pref_id 14(神奈川県)は、ダミー変数化の際に1としない。(理由は、上部のカリキュラムで述べています。)  \n",
    "            X[cnt][pref_id - 8] = 1       #計測データXに都県のダミーデータを格納する。値は1とする。8~13のpref_idを0~5として番号を振りなおす。  \n",
    "\n",
    "        X[cnt][6] = population            #計測データXの7番目の要素は、その年の人口とする。  \n",
    "        y[cnt] = next_population          #教師データyは、翌年の人口とする。  \n",
    "        cnt += 1                          #カウンタ変数cntをカウントアップする。  \n",
    "\n",
    "# Xを確認\n",
    "X[0:10]"
   ]
  },
  {
   "cell_type": "code",
   "execution_count": 4,
   "id": "728bcd07",
   "metadata": {},
   "outputs": [
    {
     "data": {
      "text/plain": [
       "array([2053000, 1513000, 1581000, 2497000, 2356000, 9967000, 3606000,\n",
       "       2056000, 1513000, 1584000], dtype=uint32)"
      ]
     },
     "execution_count": 4,
     "metadata": {},
     "output_type": "execute_result"
    }
   ],
   "source": [
    "# yを確認\n",
    "y[0:10]"
   ]
  },
  {
   "cell_type": "code",
   "execution_count": 5,
   "id": "de837b59",
   "metadata": {},
   "outputs": [],
   "source": [
    "# 1960年から2009年までを訓練データ、\n",
    "# 2010年以降のデータをテストデータとして分割する\n",
    "X_train = X[:350]\n",
    "X_test = X[350:]\n",
    "y_train = y[:350]\n",
    "y_test = y[350:]"
   ]
  },
  {
   "cell_type": "code",
   "execution_count": 6,
   "id": "8235f880",
   "metadata": {},
   "outputs": [
    {
     "data": {
      "text/plain": [
       "LinearRegression()"
      ]
     },
     "execution_count": 6,
     "metadata": {},
     "output_type": "execute_result"
    }
   ],
   "source": [
    "# LinearRegressionで回帰モデルを作成\n",
    "model1 = LinearRegression()\n",
    "model1.fit(X_train, y_train)"
   ]
  },
  {
   "cell_type": "code",
   "execution_count": 7,
   "id": "342200b5",
   "metadata": {},
   "outputs": [],
   "source": [
    "# LinearRegressionで予測実行\n",
    "y_pred1 = model1.predict(X_test)"
   ]
  },
  {
   "cell_type": "code",
   "execution_count": 8,
   "id": "5c429d32",
   "metadata": {},
   "outputs": [
    {
     "data": {
      "text/plain": [
       "array([ 2976504,  2011342,  2011854,  7234625,  6247455, 13182582,\n",
       "        9095368,  2967043,  2003902,  2005009,  7248612,  6248144,\n",
       "       13219973,  9106668,  2954454,  1996155,  1998231,  7255390,\n",
       "        6231681, 13254834,  9116352,  2944770,  1990345,  1990484,\n",
       "        7267011,  6232650, 13325526,  9129909,  2935086,  1984534,\n",
       "        1983705,  7285410,  6240397, 13414617,  9148308,  2925379,\n",
       "        1978971,  1978006,  7304327,  6253631, 13527211,  9170788],\n",
       "      dtype=uint32)"
      ]
     },
     "execution_count": 8,
     "metadata": {},
     "output_type": "execute_result"
    }
   ],
   "source": [
    "# LinearRegressionの予測結果の表示\n",
    "y_pred1 = y_pred1.astype(np.uint32)\n",
    "y_pred1"
   ]
  },
  {
   "cell_type": "code",
   "execution_count": 9,
   "id": "0d01088a",
   "metadata": {},
   "outputs": [
    {
     "data": {
      "text/plain": [
       "array([ 2960000,  2000000,  2001000,  7209000,  6217000, 13198000,\n",
       "        9060000,  2947000,  1992000,  1994000,  7216000,  6200000,\n",
       "       13234000,  9070000,  2937000,  1986000,  1986000,  7228000,\n",
       "        6201000, 13307000,  9084000,  2927000,  1980000,  1979000,\n",
       "        7247000,  6209000, 13399000,  9103000,  2916976,  1974255,\n",
       "        1973115,  7266534,  6222666, 13515271,  9126214,  2905000,\n",
       "        1966000,  1967000,  7289000,  6236000, 13624000,  9145000],\n",
       "      dtype=uint32)"
      ]
     },
     "execution_count": 9,
     "metadata": {},
     "output_type": "execute_result"
    }
   ],
   "source": [
    "# 正解の表示\n",
    "y_test"
   ]
  },
  {
   "cell_type": "code",
   "execution_count": 10,
   "id": "5394da88",
   "metadata": {},
   "outputs": [
    {
     "data": {
      "text/plain": [
       "RandomForestRegressor()"
      ]
     },
     "execution_count": 10,
     "metadata": {},
     "output_type": "execute_result"
    }
   ],
   "source": [
    "# RandomForestRegressorで回帰モデルを作成\n",
    "model2 = RandomForestRegressor()\n",
    "model2.fit(X_train, y_train)"
   ]
  },
  {
   "cell_type": "code",
   "execution_count": 11,
   "id": "f03b25e4",
   "metadata": {},
   "outputs": [
    {
     "data": {
      "text/plain": [
       "array([ 2970275,  2011085,  2012014,  7273562,  6279061, 13104756,\n",
       "        9029201,  2968413,  2003547,  2004047,  7280081,  6279061,\n",
       "       13104756,  9029201,  2960042,  1996387,  2001824,  7280081,\n",
       "        6265310, 13104756,  9029201,  2953579,  1991133,  1990800,\n",
       "        7284181,  6265310, 13104756,  9029201,  2947744,  1986677,\n",
       "        1985112,  7316052,  6279061, 13104756,  9029201,  2942883,\n",
       "        1983725,  1983560,  7316052,  6299021, 13104756,  9029201],\n",
       "      dtype=uint32)"
      ]
     },
     "execution_count": 11,
     "metadata": {},
     "output_type": "execute_result"
    }
   ],
   "source": [
    "# RandomForestRegressorで予測実行\n",
    "y_pred2 = model2.predict(X_test)\n",
    "\n",
    "# RandomForestRegressorの予測結果の表示\n",
    "y_pred2 = y_pred2.astype(np.uint32)\n",
    "y_pred2"
   ]
  },
  {
   "cell_type": "code",
   "execution_count": 12,
   "id": "3e060066",
   "metadata": {},
   "outputs": [
    {
     "data": {
      "text/plain": [
       "SVR()"
      ]
     },
     "execution_count": 12,
     "metadata": {},
     "output_type": "execute_result"
    }
   ],
   "source": [
    "# SVRで回帰モデルを作成\n",
    "model3 = SVR()\n",
    "model3.fit(X_train, y_train)"
   ]
  },
  {
   "cell_type": "code",
   "execution_count": 13,
   "id": "092a4c91",
   "metadata": {},
   "outputs": [
    {
     "data": {
      "text/plain": [
       "array([3928213, 3928193, 3928193, 3928350, 3928321, 3928364, 3928382,\n",
       "       3928213, 3928192, 3928192, 3928350, 3928321, 3928364, 3928383,\n",
       "       3928213, 3928192, 3928192, 3928350, 3928320, 3928363, 3928383,\n",
       "       3928212, 3928192, 3928192, 3928350, 3928320, 3928362, 3928383,\n",
       "       3928212, 3928192, 3928192, 3928351, 3928321, 3928361, 3928383,\n",
       "       3928212, 3928192, 3928192, 3928351, 3928321, 3928359, 3928383],\n",
       "      dtype=uint32)"
      ]
     },
     "execution_count": 13,
     "metadata": {},
     "output_type": "execute_result"
    }
   ],
   "source": [
    "# SVRで予測実行\n",
    "y_pred3 = model3.predict(X_test)\n",
    "\n",
    "# SVRの予測結果の表示\n",
    "y_pred3 = y_pred3.astype(np.uint32)\n",
    "y_pred3"
   ]
  },
  {
   "cell_type": "code",
   "execution_count": null,
   "id": "6a9d226a",
   "metadata": {},
   "outputs": [],
   "source": []
  }
 ],
 "metadata": {
  "kernelspec": {
   "display_name": "Python 3 (ipykernel)",
   "language": "python",
   "name": "python3"
  },
  "language_info": {
   "codemirror_mode": {
    "name": "ipython",
    "version": 3
   },
   "file_extension": ".py",
   "mimetype": "text/x-python",
   "name": "python",
   "nbconvert_exporter": "python",
   "pygments_lexer": "ipython3",
   "version": "3.8.3"
  }
 },
 "nbformat": 4,
 "nbformat_minor": 5
}
