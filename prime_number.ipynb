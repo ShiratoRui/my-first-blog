{
 "cells": [
  {
   "cell_type": "code",
   "execution_count": 6,
   "id": "4c8bc5fd",
   "metadata": {},
   "outputs": [
    {
     "name": "stdout",
     "output_type": "stream",
     "text": [
      "2\n",
      "3\n",
      "5\n",
      "7\n",
      "11\n",
      "13\n",
      "17\n",
      "19\n",
      "23\n",
      "29\n",
      "31\n",
      "37\n",
      "41\n",
      "43\n",
      "47\n",
      "53\n",
      "59\n",
      "61\n",
      "67\n",
      "71\n",
      "73\n",
      "79\n",
      "83\n",
      "89\n",
      "97\n"
     ]
    }
   ],
   "source": [
    "#1から100まで繰り返し処理\n",
    "for i in range(1, 101):\n",
    "    \n",
    "    #1以外の素数を判別する\n",
    "    if i != 1:\n",
    "        \n",
    "        #2を除いた2の倍数は素数ではない\n",
    "        if (i != 2) & (i % 2 == 0):\n",
    "            pass\n",
    "        \n",
    "        #3を除いた3の倍数は素数ではない\n",
    "        elif (i != 3) & (i % 3 == 0):\n",
    "            pass\n",
    "        \n",
    "        #5を除いた5の倍数は素数ではない\n",
    "        elif (i != 5) & (i % 5 == 0):\n",
    "            pass\n",
    "        \n",
    "        #7を除いた7の倍数は素数ではない\n",
    "        elif (i != 7) & (i % 7 == 0):\n",
    "            pass\n",
    "        \n",
    "        else:\n",
    "            print(i)\n",
    "    \n",
    "    #1は素数ではない\n",
    "    else:\n",
    "        pass"
   ]
  },
  {
   "cell_type": "code",
   "execution_count": null,
   "id": "17e1a723",
   "metadata": {},
   "outputs": [],
   "source": []
  }
 ],
 "metadata": {
  "kernelspec": {
   "display_name": "Python 3 (ipykernel)",
   "language": "python",
   "name": "python3"
  },
  "language_info": {
   "codemirror_mode": {
    "name": "ipython",
    "version": 3
   },
   "file_extension": ".py",
   "mimetype": "text/x-python",
   "name": "python",
   "nbconvert_exporter": "python",
   "pygments_lexer": "ipython3",
   "version": "3.8.3"
  }
 },
 "nbformat": 4,
 "nbformat_minor": 5
}
